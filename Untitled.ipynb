{
 "cells": [
  {
   "cell_type": "code",
   "execution_count": 1,
   "metadata": {},
   "outputs": [
    {
     "name": "stdout",
     "output_type": "stream",
     "text": [
      "{'A': 10, 'B': 3, 'D': 2}\n"
     ]
    }
   ],
   "source": [
    "input ={'A':10, 'B':3, 'C':12, 'D':2}\n",
    "n=max(input.values())      #only takes values\n",
    "output={}\n",
    "for i,j in input.items(): #i=key j=value\n",
    "    if n!=j:        #compares condition\n",
    "        output[i]=j #output[A]=10,output[B]=3,output[D]=2\n",
    "print(output)       #prints output\n",
    "\n"
   ]
  },
  {
   "cell_type": "code",
   "execution_count": 33,
   "metadata": {},
   "outputs": [],
   "source": [
    "input: [('A',10),('B', 2), ('C', 7)]\n",
    "output: [('B', 2),('C', 7), ('A',10)]"
   ]
  },
  {
   "cell_type": "code",
   "execution_count": 31,
   "metadata": {},
   "outputs": [
    {
     "data": {
      "text/plain": [
       "[('B', 2), ('C', 7), ('A', 10)]"
      ]
     },
     "execution_count": 31,
     "metadata": {},
     "output_type": "execute_result"
    }
   ],
   "source": [
    "input= [('A',10),('B', 2), ('C', 7)]\n",
    "v=[(a[1], a[0]) for a in input]\n",
    "x=(sorted(v)) #sort\n",
    "[(a[1], a[0]) for a in x]\n"
   ]
  },
  {
   "cell_type": "code",
   "execution_count": 32,
   "metadata": {},
   "outputs": [
    {
     "ename": "SyntaxError",
     "evalue": "invalid syntax (<ipython-input-32-f3f6a3323c48>, line 3)",
     "output_type": "error",
     "traceback": [
      "\u001b[1;36m  File \u001b[1;32m\"<ipython-input-32-f3f6a3323c48>\"\u001b[1;36m, line \u001b[1;32m3\u001b[0m\n\u001b[1;33m    b[]\u001b[0m\n\u001b[1;37m      ^\u001b[0m\n\u001b[1;31mSyntaxError\u001b[0m\u001b[1;31m:\u001b[0m invalid syntax\n"
     ]
    }
   ],
   "source": [
    "input= [('A',10),('B', 2), ('C', 7)]\n",
    "a=[]\n",
    "b[]\n",
    "for i in  input: #i baneko (A,10) i[::-1]\n",
    "    a.append(i[::-1]) #a=[10,A]\n",
    "    a. sort() #a=[2,7,10]\n",
    "    for i in a: # 3 samma chalyo\n",
    "    b.append(i[::-1]) # reverse [(2,B)(7,C)(10,A)]\n",
    "print(b)"
   ]
  },
  {
   "cell_type": "code",
   "execution_count": null,
   "metadata": {},
   "outputs": [],
   "source": []
  }
 ],
 "metadata": {
  "kernelspec": {
   "display_name": "Python 3",
   "language": "python",
   "name": "python3"
  },
  "language_info": {
   "codemirror_mode": {
    "name": "ipython",
    "version": 3
   },
   "file_extension": ".py",
   "mimetype": "text/x-python",
   "name": "python",
   "nbconvert_exporter": "python",
   "pygments_lexer": "ipython3",
   "version": "3.6.3"
  }
 },
 "nbformat": 4,
 "nbformat_minor": 2
}
